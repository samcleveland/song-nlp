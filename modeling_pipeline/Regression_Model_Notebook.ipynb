{
 "cells": [
  {
   "cell_type": "markdown",
   "id": "b355690e-056d-46d5-b859-1be705dc8e95",
   "metadata": {},
   "source": [
    "# Predicting Tempo from Lyrics"
   ]
  },
  {
   "cell_type": "markdown",
   "id": "f6b21e9b-8a91-4b43-99f3-472262d42b57",
   "metadata": {},
   "source": [
    "#### Add in a short summary\n",
    "\n",
    "\n",
    "-------------"
   ]
  },
  {
   "cell_type": "code",
   "execution_count": 1,
   "id": "9a5d776e-7852-4816-a560-9bd3cdbe3a59",
   "metadata": {},
   "outputs": [],
   "source": [
    "# Classic Packages\n",
    "import pandas as pd\n",
    "\n",
    "# Modeling \n",
    "from xgboost import plot_importance\n",
    "\n",
    "#Plotting\n",
    "import matplotlib.pyplot as plt\n",
    "\n",
    "# Model Modules\n",
    "from modules.feature_engineering import *\n",
    "from modules.feature_reduction import *\n",
    "from modules.model_build import *\n",
    "from modules.clean_data import *\n",
    "from modules.hyperopt_xgboost import *\n",
    "from modules.hyperopt_hyperparameter import *"
   ]
  },
  {
   "cell_type": "code",
   "execution_count": null,
   "id": "901b74bf-8d64-4a8c-aae6-47b3a1554a58",
   "metadata": {},
   "outputs": [],
   "source": []
  },
  {
   "cell_type": "markdown",
   "id": "9ec4b9f8-ffa8-4bf5-b2d2-9d4c6e1789c7",
   "metadata": {},
   "source": [
    "## Load Data"
   ]
  },
  {
   "cell_type": "code",
   "execution_count": 2,
   "id": "05e76a6d-5a3b-42bb-94aa-221c2462d6d0",
   "metadata": {},
   "outputs": [],
   "source": [
    "data_link = '../build_training/spotify_artist_info.csv'"
   ]
  },
  {
   "cell_type": "code",
   "execution_count": 3,
   "id": "3a18eb7b-a0b9-44d6-9727-fe990ca46934",
   "metadata": {},
   "outputs": [
    {
     "ename": "KeyError",
     "evalue": "\"['anger', 'disgust', 'fear', 'joy', 'neutral', 'sadness', 'surprise'] not in index\"",
     "output_type": "error",
     "traceback": [
      "\u001b[1;31m---------------------------------------------------------------------------\u001b[0m",
      "\u001b[1;31mKeyError\u001b[0m                                  Traceback (most recent call last)",
      "Cell \u001b[1;32mIn[3], line 1\u001b[0m\n\u001b[1;32m----> 1\u001b[0m song_df, song_features \u001b[38;5;241m=\u001b[39m \u001b[43mgenerate_model_dataframe\u001b[49m\u001b[43m(\u001b[49m\u001b[43mpd\u001b[49m\u001b[38;5;241;43m.\u001b[39;49m\u001b[43mread_csv\u001b[49m\u001b[43m(\u001b[49m\u001b[43mdata_link\u001b[49m\u001b[43m)\u001b[49m\u001b[43m)\u001b[49m\n",
      "File \u001b[1;32m~\\Documents\\GitHub\\song-nlp\\modeling_pipeline\\modules\\feature_engineering.py:35\u001b[0m, in \u001b[0;36mgenerate_model_dataframe\u001b[1;34m(df, features)\u001b[0m\n\u001b[0;32m     34\u001b[0m \u001b[38;5;28;01mdef\u001b[39;00m \u001b[38;5;21mgenerate_model_dataframe\u001b[39m(df: pd\u001b[38;5;241m.\u001b[39mDataFrame, features: \u001b[38;5;28mlist\u001b[39m \u001b[38;5;241m=\u001b[39m \u001b[38;5;28mlist\u001b[39m(feature_map\u001b[38;5;241m.\u001b[39mkeys())) \u001b[38;5;241m-\u001b[39m\u001b[38;5;241m>\u001b[39m \u001b[38;5;28mtuple\u001b[39m[pd\u001b[38;5;241m.\u001b[39mDataFrame, pd\u001b[38;5;241m.\u001b[39mDataFrame]:\n\u001b[1;32m---> 35\u001b[0m     df \u001b[38;5;241m=\u001b[39m \u001b[43mdf\u001b[49m\u001b[43m[\u001b[49m\u001b[43mfeatures\u001b[49m\u001b[43m]\u001b[49m\n\u001b[0;32m     37\u001b[0m     model_features \u001b[38;5;241m=\u001b[39m pd\u001b[38;5;241m.\u001b[39mDataFrame\u001b[38;5;241m.\u001b[39mfrom_dict(feature_map, orient\u001b[38;5;241m=\u001b[39m\u001b[38;5;124m'\u001b[39m\u001b[38;5;124mindex\u001b[39m\u001b[38;5;124m'\u001b[39m)\u001b[38;5;241m.\u001b[39mreset_index()\u001b[38;5;241m.\u001b[39mrename({\u001b[38;5;124m'\u001b[39m\u001b[38;5;124mindex\u001b[39m\u001b[38;5;124m'\u001b[39m:\u001b[38;5;124m'\u001b[39m\u001b[38;5;124mfeature\u001b[39m\u001b[38;5;124m'\u001b[39m,\n\u001b[0;32m     38\u001b[0m                                                                                                 \u001b[38;5;241m0\u001b[39m:\u001b[38;5;124m'\u001b[39m\u001b[38;5;124mstat_data_type\u001b[39m\u001b[38;5;124m'\u001b[39m},\n\u001b[0;32m     39\u001b[0m                                                                                               axis\u001b[38;5;241m=\u001b[39m\u001b[38;5;241m1\u001b[39m)\n\u001b[0;32m     41\u001b[0m     model_features[\u001b[38;5;124m'\u001b[39m\u001b[38;5;124min_model\u001b[39m\u001b[38;5;124m'\u001b[39m] \u001b[38;5;241m=\u001b[39m model_features[\u001b[38;5;124m'\u001b[39m\u001b[38;5;124mstat_data_type\u001b[39m\u001b[38;5;124m'\u001b[39m]\u001b[38;5;241m.\u001b[39mapply(\u001b[38;5;28;01mlambda\u001b[39;00m row: \u001b[38;5;241m0\u001b[39m \u001b[38;5;28;01mif\u001b[39;00m row \u001b[38;5;129;01mis\u001b[39;00m \u001b[38;5;28;01mNone\u001b[39;00m \u001b[38;5;28;01melse\u001b[39;00m \u001b[38;5;241m1\u001b[39m)\n",
      "File \u001b[1;32m~\\anaconda3\\envs\\song-venv\\lib\\site-packages\\pandas\\core\\frame.py:4108\u001b[0m, in \u001b[0;36mDataFrame.__getitem__\u001b[1;34m(self, key)\u001b[0m\n\u001b[0;32m   4106\u001b[0m     \u001b[38;5;28;01mif\u001b[39;00m is_iterator(key):\n\u001b[0;32m   4107\u001b[0m         key \u001b[38;5;241m=\u001b[39m \u001b[38;5;28mlist\u001b[39m(key)\n\u001b[1;32m-> 4108\u001b[0m     indexer \u001b[38;5;241m=\u001b[39m \u001b[38;5;28;43mself\u001b[39;49m\u001b[38;5;241;43m.\u001b[39;49m\u001b[43mcolumns\u001b[49m\u001b[38;5;241;43m.\u001b[39;49m\u001b[43m_get_indexer_strict\u001b[49m\u001b[43m(\u001b[49m\u001b[43mkey\u001b[49m\u001b[43m,\u001b[49m\u001b[43m \u001b[49m\u001b[38;5;124;43m\"\u001b[39;49m\u001b[38;5;124;43mcolumns\u001b[39;49m\u001b[38;5;124;43m\"\u001b[39;49m\u001b[43m)\u001b[49m[\u001b[38;5;241m1\u001b[39m]\n\u001b[0;32m   4110\u001b[0m \u001b[38;5;66;03m# take() does not accept boolean indexers\u001b[39;00m\n\u001b[0;32m   4111\u001b[0m \u001b[38;5;28;01mif\u001b[39;00m \u001b[38;5;28mgetattr\u001b[39m(indexer, \u001b[38;5;124m\"\u001b[39m\u001b[38;5;124mdtype\u001b[39m\u001b[38;5;124m\"\u001b[39m, \u001b[38;5;28;01mNone\u001b[39;00m) \u001b[38;5;241m==\u001b[39m \u001b[38;5;28mbool\u001b[39m:\n",
      "File \u001b[1;32m~\\anaconda3\\envs\\song-venv\\lib\\site-packages\\pandas\\core\\indexes\\base.py:6200\u001b[0m, in \u001b[0;36mIndex._get_indexer_strict\u001b[1;34m(self, key, axis_name)\u001b[0m\n\u001b[0;32m   6197\u001b[0m \u001b[38;5;28;01melse\u001b[39;00m:\n\u001b[0;32m   6198\u001b[0m     keyarr, indexer, new_indexer \u001b[38;5;241m=\u001b[39m \u001b[38;5;28mself\u001b[39m\u001b[38;5;241m.\u001b[39m_reindex_non_unique(keyarr)\n\u001b[1;32m-> 6200\u001b[0m \u001b[38;5;28;43mself\u001b[39;49m\u001b[38;5;241;43m.\u001b[39;49m\u001b[43m_raise_if_missing\u001b[49m\u001b[43m(\u001b[49m\u001b[43mkeyarr\u001b[49m\u001b[43m,\u001b[49m\u001b[43m \u001b[49m\u001b[43mindexer\u001b[49m\u001b[43m,\u001b[49m\u001b[43m \u001b[49m\u001b[43maxis_name\u001b[49m\u001b[43m)\u001b[49m\n\u001b[0;32m   6202\u001b[0m keyarr \u001b[38;5;241m=\u001b[39m \u001b[38;5;28mself\u001b[39m\u001b[38;5;241m.\u001b[39mtake(indexer)\n\u001b[0;32m   6203\u001b[0m \u001b[38;5;28;01mif\u001b[39;00m \u001b[38;5;28misinstance\u001b[39m(key, Index):\n\u001b[0;32m   6204\u001b[0m     \u001b[38;5;66;03m# GH 42790 - Preserve name from an Index\u001b[39;00m\n",
      "File \u001b[1;32m~\\anaconda3\\envs\\song-venv\\lib\\site-packages\\pandas\\core\\indexes\\base.py:6252\u001b[0m, in \u001b[0;36mIndex._raise_if_missing\u001b[1;34m(self, key, indexer, axis_name)\u001b[0m\n\u001b[0;32m   6249\u001b[0m     \u001b[38;5;28;01mraise\u001b[39;00m \u001b[38;5;167;01mKeyError\u001b[39;00m(\u001b[38;5;124mf\u001b[39m\u001b[38;5;124m\"\u001b[39m\u001b[38;5;124mNone of [\u001b[39m\u001b[38;5;132;01m{\u001b[39;00mkey\u001b[38;5;132;01m}\u001b[39;00m\u001b[38;5;124m] are in the [\u001b[39m\u001b[38;5;132;01m{\u001b[39;00maxis_name\u001b[38;5;132;01m}\u001b[39;00m\u001b[38;5;124m]\u001b[39m\u001b[38;5;124m\"\u001b[39m)\n\u001b[0;32m   6251\u001b[0m not_found \u001b[38;5;241m=\u001b[39m \u001b[38;5;28mlist\u001b[39m(ensure_index(key)[missing_mask\u001b[38;5;241m.\u001b[39mnonzero()[\u001b[38;5;241m0\u001b[39m]]\u001b[38;5;241m.\u001b[39munique())\n\u001b[1;32m-> 6252\u001b[0m \u001b[38;5;28;01mraise\u001b[39;00m \u001b[38;5;167;01mKeyError\u001b[39;00m(\u001b[38;5;124mf\u001b[39m\u001b[38;5;124m\"\u001b[39m\u001b[38;5;132;01m{\u001b[39;00mnot_found\u001b[38;5;132;01m}\u001b[39;00m\u001b[38;5;124m not in index\u001b[39m\u001b[38;5;124m\"\u001b[39m)\n",
      "\u001b[1;31mKeyError\u001b[0m: \"['anger', 'disgust', 'fear', 'joy', 'neutral', 'sadness', 'surprise'] not in index\""
     ]
    }
   ],
   "source": [
    "song_df, song_features = generate_model_dataframe(pd.read_csv(data_link))"
   ]
  },
  {
   "cell_type": "code",
   "execution_count": null,
   "id": "c414944f-13bf-4a58-beb4-91f163ec9898",
   "metadata": {},
   "outputs": [],
   "source": [
    "y_var = ['tempo']"
   ]
  },
  {
   "cell_type": "markdown",
   "id": "c3fab2f0-0643-4a76-9c0e-83cc4cb17cc1",
   "metadata": {},
   "source": [
    "## Preprocessing"
   ]
  },
  {
   "cell_type": "markdown",
   "id": "8a46a36c-f933-4cdd-951c-e5cc14b0b34e",
   "metadata": {},
   "source": [
    "### Feature Engineering"
   ]
  },
  {
   "cell_type": "code",
   "execution_count": null,
   "id": "68696aa0-e77c-4c91-a519-dde6a71976b5",
   "metadata": {},
   "outputs": [],
   "source": [
    "# fix genres\n",
    "song_df, song_features = clean_genres(song_df, song_features)"
   ]
  },
  {
   "cell_type": "code",
   "execution_count": null,
   "id": "8af94baf-b214-4ced-86e1-ed1286a51962",
   "metadata": {},
   "outputs": [],
   "source": [
    "# release date -> release year\n",
    "song_df, song_features = release_year(song_df, song_features)"
   ]
  },
  {
   "cell_type": "code",
   "execution_count": null,
   "id": "1dfdc6a6-864d-44b7-9a5e-5034e894e21a",
   "metadata": {},
   "outputs": [],
   "source": [
    "song_features = set_dependent_variable(song_df, song_features, y_var)"
   ]
  },
  {
   "cell_type": "code",
   "execution_count": null,
   "id": "673e4d9e-3b3a-4041-8bb9-700c28d60593",
   "metadata": {},
   "outputs": [],
   "source": [
    "# drop records where lyrics are not scored through NLP model\n",
    "song_df = song_df[(~song_df.POSITIVE.isna()) & \n",
    "                    (~song_df.acousticness.isna())].reset_index(drop=True)"
   ]
  },
  {
   "cell_type": "markdown",
   "id": "4c502b0b-80d7-4865-a796-bb94b1812621",
   "metadata": {},
   "source": [
    "### Data Cleaning"
   ]
  },
  {
   "cell_type": "code",
   "execution_count": null,
   "id": "a8989725-529c-4462-80a3-81440e57e840",
   "metadata": {},
   "outputs": [],
   "source": [
    "song_df, song_features = remove_columns_from_feature_set(song_df, song_features, ['artist_name','genres','album_type'])"
   ]
  },
  {
   "cell_type": "code",
   "execution_count": null,
   "id": "1e867fee-c6db-4bcb-8ccd-fcee6804f4de",
   "metadata": {},
   "outputs": [],
   "source": [
    "song_features = remove_id_columns_from_feature_set(song_features)"
   ]
  },
  {
   "cell_type": "code",
   "execution_count": null,
   "id": "187efc43-c243-44f4-840d-dd0b29fc4f97",
   "metadata": {},
   "outputs": [],
   "source": [
    "song_df = clean_continuous_numeric_columns(song_df, song_features)"
   ]
  },
  {
   "cell_type": "code",
   "execution_count": null,
   "id": "d0f4222c-1896-45a0-9383-512199847d7b",
   "metadata": {},
   "outputs": [],
   "source": [
    "song_df = clean_ordinal_categorical_columns(song_df, song_features)"
   ]
  },
  {
   "cell_type": "code",
   "execution_count": null,
   "id": "578f71de-1a38-456b-b295-1fd8e0b230b9",
   "metadata": {},
   "outputs": [],
   "source": [
    "song_df.isna().sum()"
   ]
  },
  {
   "cell_type": "code",
   "execution_count": null,
   "id": "7762e14c-08ec-4297-8ac8-328dfc4f4d5b",
   "metadata": {},
   "outputs": [],
   "source": [
    "song_df = clean_binary_categorical_columns(song_df, song_features)"
   ]
  },
  {
   "cell_type": "code",
   "execution_count": null,
   "id": "c75a6ccc-55c2-4dff-9e12-65258f8523c6",
   "metadata": {},
   "outputs": [],
   "source": [
    "# check max number of missing values per column\n",
    "song_df.isna().sum().max()"
   ]
  },
  {
   "cell_type": "code",
   "execution_count": null,
   "id": "5248187b-e61d-4296-998d-718d74a4761e",
   "metadata": {},
   "outputs": [],
   "source": [
    "## feature correlation\n",
    "song_features = highly_correlated_features(song_df, song_features, corr_threshold = 0.95)"
   ]
  },
  {
   "cell_type": "markdown",
   "id": "9f8184ff-4141-4e25-9bc5-4fe39ccd182a",
   "metadata": {},
   "source": [
    "## Model Building"
   ]
  },
  {
   "cell_type": "code",
   "execution_count": null,
   "id": "d0cb5c5b-f29d-45bb-9d43-9b341d8d7567",
   "metadata": {},
   "outputs": [],
   "source": [
    "## split data into train/test\n",
    "training, _, _, _, X_test, y_test, _, _ = create_testing_dataframes(song_df, \n",
    "                                                              ids = ['lyric_location'],\n",
    "                                                              stratify_by=['key'],\n",
    "                                                              dv=y_var,\n",
    "                                                              nfolds=5)\n",
    "\n",
    "# split training into train & validation\n",
    "_, _, X_train, y_train, X_val, y_val, _, _ = create_testing_dataframes(song_df, \n",
    "                                                          ids = ['lyric_location'],\n",
    "                                                          stratify_by=['key'],\n",
    "                                                          dv=y_var,\n",
    "                                                          nfolds=5)"
   ]
  },
  {
   "cell_type": "code",
   "execution_count": null,
   "id": "02e55890-85cd-4289-a969-37ecac8dd3e4",
   "metadata": {},
   "outputs": [],
   "source": [
    "feature_space = create_hyperopt_feature_space(song_features[song_features['in_model'] == 1]['feature'].tolist())\n",
    "hyperparameter_space = create_hyperopt_hyperparameters_space('xgb_regressor')"
   ]
  },
  {
   "cell_type": "code",
   "execution_count": null,
   "id": "e354bc05-fd90-42bb-a268-4e0b938f0dc1",
   "metadata": {},
   "outputs": [],
   "source": [
    "## train model\n",
    "\n",
    "hyperopt_regression_model = Hyperopt_XGB('xgb_regressor',\n",
    "                                         X_train,\n",
    "                                         y_train,\n",
    "                                         X_val,\n",
    "                                         y_val,\n",
    "                                         feature_space,\n",
    "                                         hyperparameter_space)\n",
    "\n",
    "feature_list, regression_model = hyperopt_regression_model.optimize(max_evals = 1500)"
   ]
  },
  {
   "cell_type": "markdown",
   "id": "7e040e26-f2f1-4ea4-a535-0bc83c25d4e1",
   "metadata": {},
   "source": [
    "## Model Evaluation"
   ]
  },
  {
   "cell_type": "code",
   "execution_count": null,
   "id": "7e8518c1-f7c2-4947-98d7-01ea483f8cfe",
   "metadata": {},
   "outputs": [],
   "source": [
    "model_columns = [feature for feature in feature_list.keys() if feature_list[feature] == 1 and feature not in hyperparameter_space.keys()]"
   ]
  },
  {
   "cell_type": "code",
   "execution_count": null,
   "id": "4c91ae43-42bc-421f-b15d-dc34ee1096ab",
   "metadata": {},
   "outputs": [],
   "source": [
    "model_columns"
   ]
  },
  {
   "cell_type": "code",
   "execution_count": null,
   "id": "6063bdc5-0d29-4aaa-a73e-2815cba04b17",
   "metadata": {},
   "outputs": [],
   "source": [
    "lift_chart(regression_model.predict(X_test[model_columns]), list(y_test.iloc[:,0])).shape[1]"
   ]
  },
  {
   "cell_type": "code",
   "execution_count": null,
   "id": "2fb10870-e916-4ffe-8b11-214256da5972",
   "metadata": {},
   "outputs": [],
   "source": [
    "## residual plot??"
   ]
  },
  {
   "cell_type": "code",
   "execution_count": null,
   "id": "fab83d85-b7bf-4bf7-a16f-f37c735fd58f",
   "metadata": {
    "scrolled": true
   },
   "outputs": [],
   "source": [
    "## Feature importance\n",
    "plot_importance(regression_model);"
   ]
  },
  {
   "cell_type": "markdown",
   "id": "aa57be1b-e801-4319-bc46-5625a3383085",
   "metadata": {},
   "source": [
    "## SHAP Plots"
   ]
  },
  {
   "cell_type": "code",
   "execution_count": null,
   "id": "961dd134-9122-42bc-9cc7-70b4266a7a4a",
   "metadata": {},
   "outputs": [],
   "source": []
  }
 ],
 "metadata": {
  "kernelspec": {
   "display_name": "Python 3 (ipykernel)",
   "language": "python",
   "name": "python3"
  },
  "language_info": {
   "codemirror_mode": {
    "name": "ipython",
    "version": 3
   },
   "file_extension": ".py",
   "mimetype": "text/x-python",
   "name": "python",
   "nbconvert_exporter": "python",
   "pygments_lexer": "ipython3",
   "version": "3.10.15"
  }
 },
 "nbformat": 4,
 "nbformat_minor": 5
}
