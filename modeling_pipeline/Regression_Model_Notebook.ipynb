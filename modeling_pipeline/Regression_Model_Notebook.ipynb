{
 "cells": [
  {
   "cell_type": "markdown",
   "id": "b355690e-056d-46d5-b859-1be705dc8e95",
   "metadata": {},
   "source": [
    "# Predicting Tempo from Lyrics"
   ]
  },
  {
   "cell_type": "markdown",
   "id": "f6b21e9b-8a91-4b43-99f3-472262d42b57",
   "metadata": {},
   "source": [
    "#### Add in a short summary\n",
    "\n",
    "\n",
    "-------------"
   ]
  },
  {
   "cell_type": "code",
   "execution_count": 1,
   "id": "9a5d776e-7852-4816-a560-9bd3cdbe3a59",
   "metadata": {},
   "outputs": [],
   "source": [
    "# Classic Packages\n",
    "import pandas as pd\n",
    "\n",
    "# Model Modules\n",
    "from modules.feature_engineering import *"
   ]
  },
  {
   "cell_type": "code",
   "execution_count": null,
   "id": "901b74bf-8d64-4a8c-aae6-47b3a1554a58",
   "metadata": {},
   "outputs": [],
   "source": []
  },
  {
   "cell_type": "markdown",
   "id": "9ec4b9f8-ffa8-4bf5-b2d2-9d4c6e1789c7",
   "metadata": {},
   "source": [
    "## Load Data"
   ]
  },
  {
   "cell_type": "code",
   "execution_count": 2,
   "id": "05e76a6d-5a3b-42bb-94aa-221c2462d6d0",
   "metadata": {},
   "outputs": [],
   "source": [
    "data_link = '../build_training/spotify_artist_info.csv'"
   ]
  },
  {
   "cell_type": "code",
   "execution_count": 3,
   "id": "3a18eb7b-a0b9-44d6-9727-fe990ca46934",
   "metadata": {},
   "outputs": [],
   "source": [
    "song_df, song_features = generate_model_dataframe(pd.read_csv(data_link))"
   ]
  },
  {
   "cell_type": "markdown",
   "id": "c3fab2f0-0643-4a76-9c0e-83cc4cb17cc1",
   "metadata": {},
   "source": [
    "## Preprocessing"
   ]
  },
  {
   "cell_type": "markdown",
   "id": "8a46a36c-f933-4cdd-951c-e5cc14b0b34e",
   "metadata": {},
   "source": [
    "### Feature Engineering"
   ]
  },
  {
   "cell_type": "code",
   "execution_count": 5,
   "id": "68696aa0-e77c-4c91-a519-dde6a71976b5",
   "metadata": {},
   "outputs": [],
   "source": [
    "# fix genres\n",
    "song_df, song_features = clean_genres(song_df, song_features)"
   ]
  },
  {
   "cell_type": "code",
   "execution_count": 6,
   "id": "8af94baf-b214-4ced-86e1-ed1286a51962",
   "metadata": {},
   "outputs": [],
   "source": [
    "# release date -> release year\n",
    "song_df, song_features = release_year(song_df, song_features)"
   ]
  },
  {
   "cell_type": "markdown",
   "id": "4c502b0b-80d7-4865-a796-bb94b1812621",
   "metadata": {},
   "source": [
    "### Data Cleaning"
   ]
  },
  {
   "cell_type": "code",
   "execution_count": 18,
   "id": "673e4d9e-3b3a-4041-8bb9-700c28d60593",
   "metadata": {},
   "outputs": [
    {
     "data": {
      "text/plain": [
       "0"
      ]
     },
     "execution_count": 18,
     "metadata": {},
     "output_type": "execute_result"
    }
   ],
   "source": [
    "# drop records where lyrics are not scored through NLP model\n",
    "song_df = song_df[~song_df.POSITIVE.isna()].reset_index(drop=True)"
   ]
  },
  {
   "cell_type": "code",
   "execution_count": null,
   "id": "c75a6ccc-55c2-4dff-9e12-65258f8523c6",
   "metadata": {},
   "outputs": [],
   "source": [
    "# check max number of missing values per column\n",
    "song_df.isna().sum().max()"
   ]
  },
  {
   "cell_type": "code",
   "execution_count": 9,
   "id": "5248187b-e61d-4296-998d-718d74a4761e",
   "metadata": {},
   "outputs": [],
   "source": [
    "## feature correlation"
   ]
  },
  {
   "cell_type": "markdown",
   "id": "9f8184ff-4141-4e25-9bc5-4fe39ccd182a",
   "metadata": {},
   "source": [
    "## Model Building"
   ]
  },
  {
   "cell_type": "code",
   "execution_count": 10,
   "id": "d0cb5c5b-f29d-45bb-9d43-9b341d8d7567",
   "metadata": {},
   "outputs": [],
   "source": [
    "## split data into train/val/test"
   ]
  },
  {
   "cell_type": "code",
   "execution_count": 11,
   "id": "e354bc05-fd90-42bb-a268-4e0b938f0dc1",
   "metadata": {},
   "outputs": [],
   "source": [
    "## train model"
   ]
  },
  {
   "cell_type": "markdown",
   "id": "7e040e26-f2f1-4ea4-a535-0bc83c25d4e1",
   "metadata": {},
   "source": [
    "## Model Evaluation"
   ]
  },
  {
   "cell_type": "code",
   "execution_count": 12,
   "id": "fab83d85-b7bf-4bf7-a16f-f37c735fd58f",
   "metadata": {},
   "outputs": [],
   "source": [
    "## Feature importance"
   ]
  },
  {
   "cell_type": "code",
   "execution_count": 13,
   "id": "110ec80d-443b-45c7-ab9f-13f1fae91837",
   "metadata": {},
   "outputs": [],
   "source": [
    "## lift charts"
   ]
  },
  {
   "cell_type": "code",
   "execution_count": 14,
   "id": "2fb10870-e916-4ffe-8b11-214256da5972",
   "metadata": {},
   "outputs": [],
   "source": [
    "## residual plot??"
   ]
  },
  {
   "cell_type": "markdown",
   "id": "aa57be1b-e801-4319-bc46-5625a3383085",
   "metadata": {},
   "source": [
    "## SHAP Plots"
   ]
  },
  {
   "cell_type": "code",
   "execution_count": null,
   "id": "961dd134-9122-42bc-9cc7-70b4266a7a4a",
   "metadata": {},
   "outputs": [],
   "source": []
  }
 ],
 "metadata": {
  "kernelspec": {
   "display_name": "Python 3 (ipykernel)",
   "language": "python",
   "name": "python3"
  },
  "language_info": {
   "codemirror_mode": {
    "name": "ipython",
    "version": 3
   },
   "file_extension": ".py",
   "mimetype": "text/x-python",
   "name": "python",
   "nbconvert_exporter": "python",
   "pygments_lexer": "ipython3",
   "version": "3.10.15"
  }
 },
 "nbformat": 4,
 "nbformat_minor": 5
}
