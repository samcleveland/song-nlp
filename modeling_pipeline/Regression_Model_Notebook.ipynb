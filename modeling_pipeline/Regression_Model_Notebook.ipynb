{
 "cells": [
  {
   "cell_type": "markdown",
   "id": "b355690e-056d-46d5-b859-1be705dc8e95",
   "metadata": {},
   "source": [
    "# Predicting Tempo from Lyrics"
   ]
  },
  {
   "cell_type": "markdown",
   "id": "f6b21e9b-8a91-4b43-99f3-472262d42b57",
   "metadata": {},
   "source": [
    "#### Add in a short summary\n",
    "\n",
    "\n",
    "-------------"
   ]
  },
  {
   "cell_type": "code",
   "execution_count": 1,
   "id": "9a5d776e-7852-4816-a560-9bd3cdbe3a59",
   "metadata": {},
   "outputs": [],
   "source": [
    "# Classic Packages\n",
    "import pandas as pd\n",
    "\n",
    "# Modeling \n",
    "from xgboost import plot_importance\n",
    "\n",
    "#Plotting\n",
    "import matplotlib.pyplot as plt\n",
    "\n",
    "# Model Modules\n",
    "from modules.feature_engineering import *\n",
    "from modules.feature_reduction import *\n",
    "from modules.model_build import *\n",
    "from modules.clean_data import *\n",
    "from modules.hyperopt_xgboost import *\n",
    "from modules.hyperopt_hyperparameter import *"
   ]
  },
  {
   "cell_type": "code",
   "execution_count": null,
   "id": "901b74bf-8d64-4a8c-aae6-47b3a1554a58",
   "metadata": {},
   "outputs": [],
   "source": []
  },
  {
   "cell_type": "markdown",
   "id": "9ec4b9f8-ffa8-4bf5-b2d2-9d4c6e1789c7",
   "metadata": {},
   "source": [
    "## Load Data"
   ]
  },
  {
   "cell_type": "code",
   "execution_count": 2,
   "id": "05e76a6d-5a3b-42bb-94aa-221c2462d6d0",
   "metadata": {},
   "outputs": [],
   "source": [
    "data_link = '../build_training/spotify_artist_info_nlp.csv'"
   ]
  },
  {
   "cell_type": "code",
   "execution_count": 3,
   "id": "3a18eb7b-a0b9-44d6-9727-fe990ca46934",
   "metadata": {},
   "outputs": [],
   "source": [
    "song_df, song_features = generate_model_dataframe(pd.read_csv(data_link))"
   ]
  },
  {
   "cell_type": "code",
   "execution_count": 4,
   "id": "c414944f-13bf-4a58-beb4-91f163ec9898",
   "metadata": {},
   "outputs": [],
   "source": [
    "y_var = ['tempo']"
   ]
  },
  {
   "cell_type": "markdown",
   "id": "c3fab2f0-0643-4a76-9c0e-83cc4cb17cc1",
   "metadata": {},
   "source": [
    "## Preprocessing"
   ]
  },
  {
   "cell_type": "markdown",
   "id": "8a46a36c-f933-4cdd-951c-e5cc14b0b34e",
   "metadata": {},
   "source": [
    "### Feature Engineering"
   ]
  },
  {
   "cell_type": "markdown",
   "id": "456db887-9311-4e0e-b456-c4b5a8b5ae76",
   "metadata": {},
   "source": [
    "# fix genres\n",
    "song_df, song_features = clean_genres(song_df, song_features)"
   ]
  },
  {
   "cell_type": "markdown",
   "id": "51c5ffbc-79b4-437e-99af-1cd6389715a3",
   "metadata": {},
   "source": [
    "# release date -> release year\n",
    "song_df, song_features = release_year(song_df, song_features)"
   ]
  },
  {
   "cell_type": "code",
   "execution_count": 5,
   "id": "1dfdc6a6-864d-44b7-9a5e-5034e894e21a",
   "metadata": {},
   "outputs": [],
   "source": [
    "song_features = set_dependent_variable(song_df, song_features, y_var)"
   ]
  },
  {
   "cell_type": "code",
   "execution_count": 6,
   "id": "673e4d9e-3b3a-4041-8bb9-700c28d60593",
   "metadata": {},
   "outputs": [],
   "source": [
    "# drop records where lyrics are not scored through NLP model\n",
    "song_df = song_df[(~song_df.POSITIVE.isna()) & \n",
    "                    (~song_df.acousticness.isna())].reset_index(drop=True)"
   ]
  },
  {
   "cell_type": "markdown",
   "id": "4c502b0b-80d7-4865-a796-bb94b1812621",
   "metadata": {},
   "source": [
    "### Data Cleaning"
   ]
  },
  {
   "cell_type": "markdown",
   "id": "1c08ccb2-b510-41a7-819a-0c58c9c06fa7",
   "metadata": {},
   "source": [
    "song_df, song_features = remove_columns_from_feature_set(song_df, song_features, ['artist_name','genres','album_type'])"
   ]
  },
  {
   "cell_type": "code",
   "execution_count": 7,
   "id": "1e867fee-c6db-4bcb-8ccd-fcee6804f4de",
   "metadata": {},
   "outputs": [
    {
     "name": "stdout",
     "output_type": "stream",
     "text": [
      "The features removed from feature set:\n",
      "\n",
      "lyric_location\n",
      "\n",
      "\n"
     ]
    }
   ],
   "source": [
    "song_features = remove_id_columns_from_feature_set(song_features)"
   ]
  },
  {
   "cell_type": "code",
   "execution_count": 8,
   "id": "187efc43-c243-44f4-840d-dd0b29fc4f97",
   "metadata": {},
   "outputs": [
    {
     "name": "stdout",
     "output_type": "stream",
     "text": [
      "The features converted to float64:\n",
      "\n",
      "NEGATIVE\n",
      "POSITIVE\n",
      "acousticness\n",
      "anger\n",
      "danceability\n",
      "disgust\n",
      "duration_ms_x\n",
      "energy\n",
      "fear\n",
      "instrumentalness\n",
      "joy\n",
      "liveness\n",
      "loudness\n",
      "neutral\n",
      "sadness\n",
      "speechiness\n",
      "surprise\n",
      "tempo\n",
      "valence\n",
      "\n",
      "\n"
     ]
    }
   ],
   "source": [
    "song_df = clean_continuous_numeric_columns(song_df, song_features)"
   ]
  },
  {
   "cell_type": "code",
   "execution_count": 9,
   "id": "d0f4222c-1896-45a0-9383-512199847d7b",
   "metadata": {},
   "outputs": [
    {
     "name": "stdout",
     "output_type": "stream",
     "text": [
      "The features converted to category:\n",
      "\n",
      "\n",
      "\n",
      "\n"
     ]
    }
   ],
   "source": [
    "song_df = clean_ordinal_categorical_columns(song_df, song_features)"
   ]
  },
  {
   "cell_type": "code",
   "execution_count": 10,
   "id": "578f71de-1a38-456b-b295-1fd8e0b230b9",
   "metadata": {},
   "outputs": [
    {
     "data": {
      "text/plain": [
       "NEGATIVE            0\n",
       "POSITIVE            0\n",
       "acousticness        0\n",
       "anger               2\n",
       "danceability        0\n",
       "disgust             2\n",
       "duration_ms_x       0\n",
       "energy              0\n",
       "fear                2\n",
       "instrumentalness    0\n",
       "joy                 2\n",
       "key                 0\n",
       "liveness            0\n",
       "loudness            0\n",
       "lyric_location      0\n",
       "mode                0\n",
       "neutral             2\n",
       "popularity          0\n",
       "sadness             2\n",
       "speechiness         0\n",
       "surprise            2\n",
       "tempo               0\n",
       "time_signature      0\n",
       "valence             0\n",
       "dtype: int64"
      ]
     },
     "execution_count": 10,
     "metadata": {},
     "output_type": "execute_result"
    }
   ],
   "source": [
    "song_df.isna().sum()"
   ]
  },
  {
   "cell_type": "code",
   "execution_count": 11,
   "id": "7762e14c-08ec-4297-8ac8-328dfc4f4d5b",
   "metadata": {},
   "outputs": [
    {
     "name": "stdout",
     "output_type": "stream",
     "text": [
      "The features converted to 0/1 integer:\n",
      "\n",
      "mode\n",
      "\n",
      "\n"
     ]
    }
   ],
   "source": [
    "song_df = clean_binary_categorical_columns(song_df, song_features)"
   ]
  },
  {
   "cell_type": "code",
   "execution_count": 12,
   "id": "c75a6ccc-55c2-4dff-9e12-65258f8523c6",
   "metadata": {},
   "outputs": [
    {
     "data": {
      "text/plain": [
       "2"
      ]
     },
     "execution_count": 12,
     "metadata": {},
     "output_type": "execute_result"
    }
   ],
   "source": [
    "# check max number of missing values per column\n",
    "song_df.isna().sum().max()"
   ]
  },
  {
   "cell_type": "code",
   "execution_count": 13,
   "id": "5248187b-e61d-4296-998d-718d74a4761e",
   "metadata": {},
   "outputs": [
    {
     "name": "stdout",
     "output_type": "stream",
     "text": [
      "The featurees dropped for correlation >= 0.95:\n",
      "\n",
      "POSITIVE\n",
      "\n",
      "\n"
     ]
    }
   ],
   "source": [
    "## feature correlation\n",
    "song_features = highly_correlated_features(song_df, song_features, corr_threshold = 0.95)"
   ]
  },
  {
   "cell_type": "markdown",
   "id": "9f8184ff-4141-4e25-9bc5-4fe39ccd182a",
   "metadata": {},
   "source": [
    "## Model Building"
   ]
  },
  {
   "cell_type": "code",
   "execution_count": 14,
   "id": "d0cb5c5b-f29d-45bb-9d43-9b341d8d7567",
   "metadata": {},
   "outputs": [],
   "source": [
    "## split data into train/test\n",
    "training, _, _, _, X_test, y_test, _, _ = create_testing_dataframes(song_df, \n",
    "                                                              ids = ['lyric_location'],\n",
    "                                                              stratify_by=['key'],\n",
    "                                                              dv=y_var,\n",
    "                                                              nfolds=5)\n",
    "\n",
    "# split training into train & validation\n",
    "_, _, X_train, y_train, X_val, y_val, _, _ = create_testing_dataframes(song_df, \n",
    "                                                          ids = ['lyric_location'],\n",
    "                                                          stratify_by=['key'],\n",
    "                                                          dv=y_var,\n",
    "                                                          nfolds=5)"
   ]
  },
  {
   "cell_type": "code",
   "execution_count": 15,
   "id": "02e55890-85cd-4289-a969-37ecac8dd3e4",
   "metadata": {},
   "outputs": [],
   "source": [
    "feature_space = create_hyperopt_feature_space(song_features[song_features['in_model'] == 1]['feature'].tolist())\n",
    "hyperparameter_space = create_hyperopt_hyperparameters_space('xgb_regressor')"
   ]
  },
  {
   "cell_type": "code",
   "execution_count": 16,
   "id": "e354bc05-fd90-42bb-a268-4e0b938f0dc1",
   "metadata": {},
   "outputs": [
    {
     "name": "stdout",
     "output_type": "stream",
     "text": [
      "100%|██████████| 1500/1500 [06:39<00:00,  3.76trial/s, best loss: 22.642661046545378]\n"
     ]
    }
   ],
   "source": [
    "## train model\n",
    "\n",
    "hyperopt_regression_model = Hyperopt_XGB('xgb_regressor',\n",
    "                                         X_train,\n",
    "                                         y_train,\n",
    "                                         X_val,\n",
    "                                         y_val,\n",
    "                                         feature_space,\n",
    "                                         hyperparameter_space)\n",
    "\n",
    "feature_list, regression_model = hyperopt_regression_model.optimize(max_evals = 1500)"
   ]
  },
  {
   "cell_type": "markdown",
   "id": "7e040e26-f2f1-4ea4-a535-0bc83c25d4e1",
   "metadata": {},
   "source": [
    "## Model Evaluation"
   ]
  },
  {
   "cell_type": "code",
   "execution_count": 17,
   "id": "7e8518c1-f7c2-4947-98d7-01ea483f8cfe",
   "metadata": {},
   "outputs": [],
   "source": [
    "model_columns = [feature for feature in feature_list.keys() if feature_list[feature] == 1 and feature not in hyperparameter_space.keys()]"
   ]
  },
  {
   "cell_type": "code",
   "execution_count": 18,
   "id": "4c91ae43-42bc-421f-b15d-dc34ee1096ab",
   "metadata": {},
   "outputs": [
    {
     "data": {
      "text/plain": [
       "['acousticness',\n",
       " 'anger',\n",
       " 'disgust',\n",
       " 'energy',\n",
       " 'mode',\n",
       " 'neutral',\n",
       " 'time_signature']"
      ]
     },
     "execution_count": 18,
     "metadata": {},
     "output_type": "execute_result"
    }
   ],
   "source": [
    "model_columns"
   ]
  },
  {
   "cell_type": "code",
   "execution_count": 19,
   "id": "6063bdc5-0d29-4aaa-a73e-2815cba04b17",
   "metadata": {},
   "outputs": [
    {
     "data": {
      "image/png": "[encoded data removed]",
      "text/plain": [
       "<Figure size 640x480 with 1 Axes>"
      ]
     },
     "metadata": {},
     "output_type": "display_data"
    },
    {
     "data": {
      "text/plain": [
       "2"
      ]
     },
     "execution_count": 19,
     "metadata": {},
     "output_type": "execute_result"
    }
   ],
   "source": [
    "lift_chart(regression_model.predict(X_test[model_columns]), list(y_test.iloc[:,0])).shape[1]"
   ]
  },
  {
   "cell_type": "code",
   "execution_count": 20,
   "id": "2fb10870-e916-4ffe-8b11-214256da5972",
   "metadata": {},
   "outputs": [],
   "source": [
    "## residual plot??"
   ]
  },
  {
   "cell_type": "code",
   "execution_count": 21,
   "id": "fab83d85-b7bf-4bf7-a16f-f37c735fd58f",
   "metadata": {
    "scrolled": true
   },
   "outputs": [
    {
     "data": {
      "image/png": "[encoded data removed]",
      "text/plain": [
       "<Figure size 640x480 with 1 Axes>"
      ]
     },
     "metadata": {},
     "output_type": "display_data"
    }
   ],
   "source": [
    "## Feature importance\n",
    "plot_importance(regression_model);"
   ]
  },
  {
   "cell_type": "markdown",
   "id": "aa57be1b-e801-4319-bc46-5625a3383085",
   "metadata": {},
   "source": [
    "## SHAP Plots"
   ]
  },
  {
   "cell_type": "code",
   "execution_count": null,
   "id": "961dd134-9122-42bc-9cc7-70b4266a7a4a",
   "metadata": {},
   "outputs": [],
   "source": []
  }
 ],
 "metadata": {
  "kernelspec": {
   "display_name": "Python 3 (ipykernel)",
   "language": "python",
   "name": "python3"
  },
  "language_info": {
   "codemirror_mode": {
    "name": "ipython",
    "version": 3
   },
   "file_extension": ".py",
   "mimetype": "text/x-python",
   "name": "python",
   "nbconvert_exporter": "python",
   "pygments_lexer": "ipython3",
   "version": "3.10.15"
  }
 },
 "nbformat": 4,
 "nbformat_minor": 5
}
